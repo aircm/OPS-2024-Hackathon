{
 "cells": [
  {
   "cell_type": "markdown",
   "source": [
    "# Text Summarization\n",
    "\n",
    "**Author: Airc Miao**\n",
    "\n",
    "We will show different solutions for text summarization in this notebook, and compare their performance."
   ],
   "metadata": {
    "collapsed": false
   },
   "id": "4365d3be13855bba"
  },
  {
   "cell_type": "code",
   "outputs": [],
   "source": [
    "import os\n",
    "import sys\n",
    "#import requests\n",
    "import pandas as pd\n",
    "import re\n",
    "#import tensorflow as tf"
   ],
   "metadata": {
    "collapsed": true,
    "jupyter": {
     "outputs_hidden": true
    },
    "ExecuteTime": {
     "end_time": "2024-03-07T19:06:43.336409Z",
     "start_time": "2024-03-07T19:06:43.333421Z"
    }
   },
   "id": "initial_id",
   "execution_count": 45
  },
  {
   "cell_type": "code",
   "execution_count": 46,
   "id": "1df4f71d4b112ab6",
   "metadata": {
    "collapsed": false,
    "ExecuteTime": {
     "end_time": "2024-03-07T19:06:44.064241Z",
     "start_time": "2024-03-07T19:06:44.059614Z"
    }
   },
   "outputs": [],
   "source": [
    "meeting_text = '''\n",
    "Sarah (Project Manager): Good morning, everyone! Thank you for joining today's kickoff meeting for our new project. Let's get started. James, could you give us a brief overview of the project scope and objectives?\n",
    "\n",
    "James (Team Lead): Certainly, Sarah. The project involves developing a mobile application for our client that focuses on enhancing user engagement and streamlining their booking process. Our main goals are to deliver a user-friendly interface and ensure seamless functionality across different devices.\n",
    "\n",
    "Sarah: Great. Emma, how are we approaching the design aspect?\n",
    "\n",
    "Emma (Designer): I've already started working on some initial design concepts based on the client's preferences and industry trends. I'll share a presentation later this week to gather feedback before finalizing the design direction.\n",
    "\n",
    "Sarah: Excellent, Emma. Mark, any technical considerations we should be aware of?\n",
    "\n",
    "Mark (Developer): The application will be built using React Native to ensure cross-platform compatibility. I've outlined the technical requirements and dependencies in the project documentation, which I'll share with the team after this meeting.\n",
    "\n",
    "Sarah: Perfect. Lisa, what's the marketing strategy for the launch?\n",
    "\n",
    "Lisa (Marketing Representative): We're planning a phased approach, starting with teaser campaigns on social media to build anticipation. Once the app is ready for beta testing, we'll initiate a closed beta with selected users to gather feedback and make necessary adjustments before the official launch.\n",
    "\n",
    "Sarah: Thanks, Lisa. Team, let's establish a timeline. James, can you outline the key milestones?\n",
    "\n",
    "James: Sure, Sarah. I'll break down the development process into sprints, with a goal to have a beta version ready for testing in six weeks. We'll then allocate time for feedback and adjustments before the final launch in three months.\n",
    "\n",
    "Sarah: Sounds good. Let's schedule regular check-ins to ensure we're on track. Any final thoughts or questions before we wrap up?\n",
    "\n",
    "Emma: I just want to confirm the deadline for design feedback from the team.\n",
    "\n",
    "Sarah: We'll aim to provide feedback by the end of next week. Thank you all for your contributions. Let's make this project a success. Our next meeting is scheduled for Wednesday next week. Have a productive day, everyone!\n",
    "'''"
   ]
  },
  {
   "cell_type": "markdown",
   "source": [
    "## 1. Summa\n"
   ],
   "metadata": {
    "collapsed": false
   },
   "id": "5d733a87728e60f0"
  },
  {
   "cell_type": "code",
   "outputs": [
    {
     "name": "stdout",
     "output_type": "stream",
     "text": [
      "Sarah (Project Manager): Good morning, everyone!\n",
      "James (Team Lead): Certainly, Sarah.\n",
      "I'll share a presentation later this week to gather feedback before finalizing the design direction.\n",
      "I've outlined the technical requirements and dependencies in the project documentation, which I'll share with the team after this meeting.\n",
      "Sarah: Thanks, Lisa.\n",
      "Sarah: We'll aim to provide feedback by the end of next week.\n"
     ]
    }
   ],
   "source": [
    "import summa\n",
    "summa_result = summa.summarizer.summarize(meeting_text, ratio=0.2)\n",
    "print(summa_result)"
   ],
   "metadata": {
    "collapsed": false,
    "ExecuteTime": {
     "end_time": "2024-03-07T19:07:06.853493Z",
     "start_time": "2024-03-07T19:07:06.817920Z"
    }
   },
   "id": "2483a82af2d73bb",
   "execution_count": 47
  },
  {
   "cell_type": "markdown",
   "source": [
    "## 2. Summarization with PyTextRank"
   ],
   "metadata": {
    "collapsed": false
   },
   "id": "94e14e3c3a82a8dd"
  },
  {
   "cell_type": "code",
   "outputs": [],
   "source": [
    "#!pip install pytextrank"
   ],
   "metadata": {
    "collapsed": false,
    "ExecuteTime": {
     "end_time": "2024-03-07T19:07:08.686280Z",
     "start_time": "2024-03-07T19:07:08.682330Z"
    }
   },
   "id": "3efa4072edf58ed2",
   "execution_count": 48
  },
  {
   "cell_type": "code",
   "outputs": [
    {
     "data": {
      "text/plain": "<pytextrank.base.BaseTextRankFactory at 0x2982e9550>"
     },
     "execution_count": 49,
     "metadata": {},
     "output_type": "execute_result"
    }
   ],
   "source": [
    "import spacy\n",
    "import pytextrank\n",
    "\n",
    "nlp = spacy.load(\"en_core_web_trf\")\n",
    "nlp.add_pipe(\"textrank\")"
   ],
   "metadata": {
    "collapsed": false,
    "ExecuteTime": {
     "end_time": "2024-03-07T19:07:11.831709Z",
     "start_time": "2024-03-07T19:07:09.394138Z"
    }
   },
   "id": "886da4cf817a17d1",
   "execution_count": 49
  },
  {
   "cell_type": "code",
   "outputs": [
    {
     "name": "stdout",
     "output_type": "stream",
     "text": [
      "I just want to confirm the deadline for design feedback from the team.\n"
     ]
    }
   ],
   "source": [
    "phrases = 1 # Summarize based on its top N phrases\n",
    "sentences = 1 # Yielding its top K sentences\n",
    "\n",
    "doc = nlp(meeting_text)\n",
    "tr = doc._.textrank\n",
    "\n",
    "for sent in tr.summary(limit_phrases=phrases,\n",
    "                       limit_sentences=sentences):\n",
    "    print(sent)"
   ],
   "metadata": {
    "collapsed": false,
    "ExecuteTime": {
     "end_time": "2024-03-07T19:07:12.089918Z",
     "start_time": "2024-03-07T19:07:11.837845Z"
    }
   },
   "id": "c5804f7103d06668",
   "execution_count": 50
  },
  {
   "cell_type": "code",
   "outputs": [
    {
     "name": "stdout",
     "output_type": "stream",
     "text": [
      "Once the app is ready for beta testing, we'll initiate a closed beta with selected users to gather feedback and make necessary adjustments before the official launch.\n",
      "I just want to confirm the deadline for design feedback from the team.\n",
      "\n",
      "Sarah (Project Manager): Good morning, everyone!\n",
      "I'll share a presentation later this week to gather feedback before finalizing the design direction.\n",
      "We'll then allocate time for feedback and adjustments before the final launch in three months.\n"
     ]
    }
   ],
   "source": [
    "phrases = 5 # Summarize based on its top N phrases\n",
    "sentences = 5 # Yielding its top K sentences\n",
    "\n",
    "doc = nlp(meeting_text)\n",
    "tr = doc._.textrank\n",
    "\n",
    "for sent in tr.summary(limit_phrases=phrases,\n",
    "                       limit_sentences=sentences):\n",
    "    print(sent)"
   ],
   "metadata": {
    "collapsed": false,
    "ExecuteTime": {
     "end_time": "2024-03-07T18:58:09.478771Z",
     "start_time": "2024-03-07T18:58:09.270606Z"
    }
   },
   "id": "2f9a2afe81540ec",
   "execution_count": 38
  },
  {
   "cell_type": "markdown",
   "source": [
    "## 3. ktrain: \n",
    "\n",
    "ktrain uses a pretrained BART model "
   ],
   "metadata": {
    "collapsed": false
   },
   "id": "95ba3c042a47d2ff"
  },
  {
   "cell_type": "code",
   "execution_count": 39,
   "id": "31ab90113ef121af",
   "metadata": {
    "collapsed": false,
    "ExecuteTime": {
     "end_time": "2024-03-07T18:58:18.314999Z",
     "start_time": "2024-03-07T18:58:09.480882Z"
    }
   },
   "outputs": [
    {
     "name": "stdout",
     "output_type": "stream",
     "text": [
      "CPU times: user 28.8 s, sys: 20.3 s, total: 49 s\n",
      "Wall time: 8.82 s\n"
     ]
    },
    {
     "data": {
      "text/plain": "\"The project involves developing a mobile application for our client that focuses on enhancing user engagement. The application will be built using React Native to ensure cross-platform compatibility. Once the app is ready for beta testing, we'll initiate a closed beta with selected users to gather feedback and make necessary adjustments before the official launch.\""
     },
     "execution_count": 39,
     "metadata": {},
     "output_type": "execute_result"
    }
   ],
   "source": [
    "%%time\n",
    "\n",
    "import ktrain\n",
    "from ktrain import text\n",
    "\n",
    "ts = text.TransformerSummarizer()\n",
    "ts.summarize(meeting_text)"
   ]
  },
  {
   "cell_type": "markdown",
   "source": [
    "## 4. HuggingFace"
   ],
   "metadata": {
    "collapsed": false
   },
   "id": "78f8bc25e634caa9"
  },
  {
   "cell_type": "code",
   "outputs": [],
   "source": [
    "from transformers import pipeline"
   ],
   "metadata": {
    "collapsed": false,
    "ExecuteTime": {
     "end_time": "2024-03-07T18:58:18.317213Z",
     "start_time": "2024-03-07T18:58:18.303878Z"
    }
   },
   "id": "1188455ea190273",
   "execution_count": 40
  },
  {
   "cell_type": "markdown",
   "source": [
    "### 4.1 facebook/bart-large-cnn\n",
    "\n",
    "BART model pre-trained on English language, and fine-tuned on CNN Daily Mail."
   ],
   "metadata": {
    "collapsed": false
   },
   "id": "6a7bb8dd4839780c"
  },
  {
   "cell_type": "code",
   "outputs": [
    {
     "name": "stdout",
     "output_type": "stream",
     "text": [
      "CPU times: user 27.6 s, sys: 21.2 s, total: 48.8 s\n",
      "Wall time: 10 s\n"
     ]
    },
    {
     "data": {
      "text/plain": "[{'summary_text': \"The project involves developing a mobile application for our client. Our main goals are to deliver a user-friendly interface and ensure seamless functionality across different devices. The application will be built using React Native to ensure cross-platform compatibility. We're planning a phased approach, starting with teaser campaigns on social media to build anticipation.\"}]"
     },
     "execution_count": 44,
     "metadata": {},
     "output_type": "execute_result"
    }
   ],
   "source": [
    "%%time\n",
    "\n",
    "hf_fb_bart = pipeline(\"summarization\", model=\"facebook/bart-large-cnn\")\n",
    "\n",
    "hf_fb_bart(meeting_text, \n",
    "                # max_length=300, min_length=30, do_sample=False\n",
    "                 )"
   ],
   "metadata": {
    "collapsed": false,
    "ExecuteTime": {
     "end_time": "2024-03-07T18:59:13.720086Z",
     "start_time": "2024-03-07T18:59:03.665693Z"
    }
   },
   "id": "6246aaa57ab3fc6f",
   "execution_count": 44
  },
  {
   "cell_type": "markdown",
   "source": [
    "### 4.2 knkarthick/MEETING_SUMMARY\n",
    "\n",
    "Model obtained by Fine Tuning 'facebook/bart-large-xsum' using AMI Meeting Corpus, SAMSUM Dataset, DIALOGSUM Dataset, XSUM Dataset!"
   ],
   "metadata": {
    "collapsed": false
   },
   "id": "ee1ca137b17eb819"
  },
  {
   "cell_type": "code",
   "outputs": [
    {
     "data": {
      "text/plain": "[{'summary_text': 'Sarah, James, Emma and Lisa are meeting to discuss a project. The project involves developing a mobile application for their client. The development will be completed in six weeks and ready for beta testing in three months. There will be teaser campaigns on social media to build anticipation. The deadline for design feedback is'}]"
     },
     "execution_count": 42,
     "metadata": {},
     "output_type": "execute_result"
    }
   ],
   "source": [
    "hf_mt= pipeline(\"summarization\", model=\"knkarthick/MEETING_SUMMARY\")\n",
    "\n",
    "hf_mt(meeting_text)"
   ],
   "metadata": {
    "collapsed": false,
    "ExecuteTime": {
     "end_time": "2024-03-07T18:58:38.142816Z",
     "start_time": "2024-03-07T18:58:28.523618Z"
    }
   },
   "id": "32f2d96798545664",
   "execution_count": 42
  },
  {
   "cell_type": "markdown",
   "source": [
    "### 4.3 aruca/pegasus_x-meeting-summarizer-gpt3.5\n",
    "This model is a fine-tuned version of google/pegasus-x-base on the None dataset"
   ],
   "metadata": {
    "collapsed": false
   },
   "id": "32cdec422db28d"
  },
  {
   "cell_type": "code",
   "outputs": [
    {
     "data": {
      "text/plain": "[{'summary_text': 'The project involves developing a mobile application for a client to enhance user engagement and streamline their booking process. The main goals are to deliver a user-friendly interface, ensure seamless functionality across devices, and implement React Native to ensure cross-platform compatibility. The marketing strategy includes teaser campaigns on social media to build anticipation, and a closed beta with selected users to gather feedback and make necessary adjustments before the official launch. The project aims to have a beta version ready for testing in six weeks, with a goal to allocate time for feedback and adjustments before the final launch in three months. The next meeting is scheduled for Wednesday next week.'}]"
     },
     "execution_count": 43,
     "metadata": {},
     "output_type": "execute_result"
    }
   ],
   "source": [
    "hf_pg = pipeline(\"summarization\", model=\"aruca/pegasus_x-meeting-summarizer-gpt3.5\")\n",
    "hf_pg(meeting_text)"
   ],
   "metadata": {
    "collapsed": false,
    "ExecuteTime": {
     "end_time": "2024-03-07T18:58:50.454715Z",
     "start_time": "2024-03-07T18:58:38.143208Z"
    }
   },
   "id": "bbe994bba61304b3",
   "execution_count": 43
  },
  {
   "cell_type": "code",
   "outputs": [],
   "source": [],
   "metadata": {
    "collapsed": false,
    "ExecuteTime": {
     "end_time": "2024-03-07T18:58:50.456693Z",
     "start_time": "2024-03-07T18:58:50.453554Z"
    }
   },
   "id": "f36ebe5df8404ecb",
   "execution_count": 43
  }
 ],
 "metadata": {
  "kernelspec": {
   "display_name": "Python 3 (ipykernel)",
   "language": "python",
   "name": "python3"
  },
  "language_info": {
   "codemirror_mode": {
    "name": "ipython",
    "version": 3
   },
   "file_extension": ".py",
   "mimetype": "text/x-python",
   "name": "python",
   "nbconvert_exporter": "python",
   "pygments_lexer": "ipython3",
   "version": "3.9.6"
  }
 },
 "nbformat": 4,
 "nbformat_minor": 5
}
