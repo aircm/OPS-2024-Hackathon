{
 "cells": [
  {
   "cell_type": "code",
   "execution_count": 1,
   "id": "initial_id",
   "metadata": {
    "ExecuteTime": {
     "end_time": "2024-03-07T15:45:57.584381Z",
     "start_time": "2024-03-07T15:45:57.115791Z"
    },
    "collapsed": true,
    "jupyter": {
     "outputs_hidden": true
    }
   },
   "outputs": [],
   "source": [
    "import os\n",
    "import sys\n",
    "#import requests\n",
    "import pandas as pd\n",
    "import re\n",
    "#import tensorflow as tf"
   ]
  },
  {
   "cell_type": "code",
   "execution_count": 2,
   "id": "4287e9642135d266",
   "metadata": {
    "ExecuteTime": {
     "end_time": "2024-03-07T15:45:57.587612Z",
     "start_time": "2024-03-07T15:45:57.583860Z"
    },
    "collapsed": false,
    "jupyter": {
     "outputs_hidden": false
    }
   },
   "outputs": [],
   "source": [
    "text = '''\n",
    "In a quaint town, nestled between rolling hills and whispering trees, lived an eccentric inventor named Amelia, who, fueled by dreams and a touch of madness, embarked on a daring quest to build a time-traveling contraption, unraveling the fabric of reality, and discovering that the true magic lay not in the machine but in the moments that shaped her journey, teaching her that the past held echoes of the future, and the key to happiness was not in altering time but in savoring the fleeting beauty of each passing moment.\n",
    "'''"
   ]
  },
  {
   "cell_type": "code",
   "execution_count": 3,
   "id": "1df4f71d4b112ab6",
   "metadata": {
    "ExecuteTime": {
     "end_time": "2024-03-07T15:45:57.596528Z",
     "start_time": "2024-03-07T15:45:57.586852Z"
    },
    "collapsed": false,
    "jupyter": {
     "outputs_hidden": false
    }
   },
   "outputs": [],
   "source": [
    "text_2 = '''\n",
    "Sarah (Project Manager): Good morning, everyone! Thank you for joining today's kickoff meeting for our new project. Let's get started. James, could you give us a brief overview of the project scope and objectives?\n",
    "\n",
    "James (Team Lead): Certainly, Sarah. The project involves developing a mobile application for our client that focuses on enhancing user engagement and streamlining their booking process. Our main goals are to deliver a user-friendly interface and ensure seamless functionality across different devices.\n",
    "\n",
    "Sarah: Great. Emma, how are we approaching the design aspect?\n",
    "\n",
    "Emma (Designer): I've already started working on some initial design concepts based on the client's preferences and industry trends. I'll share a presentation later this week to gather feedback before finalizing the design direction.\n",
    "\n",
    "Sarah: Excellent, Emma. Mark, any technical considerations we should be aware of?\n",
    "\n",
    "Mark (Developer): The application will be built using React Native to ensure cross-platform compatibility. I've outlined the technical requirements and dependencies in the project documentation, which I'll share with the team after this meeting.\n",
    "\n",
    "Sarah: Perfect. Lisa, what's the marketing strategy for the launch?\n",
    "\n",
    "Lisa (Marketing Representative): We're planning a phased approach, starting with teaser campaigns on social media to build anticipation. Once the app is ready for beta testing, we'll initiate a closed beta with selected users to gather feedback and make necessary adjustments before the official launch.\n",
    "\n",
    "Sarah: Thanks, Lisa. Team, let's establish a timeline. James, can you outline the key milestones?\n",
    "\n",
    "James: Sure, Sarah. I'll break down the development process into sprints, with a goal to have a beta version ready for testing in six weeks. We'll then allocate time for feedback and adjustments before the final launch in three months.\n",
    "\n",
    "Sarah: Sounds good. Let's schedule regular check-ins to ensure we're on track. Any final thoughts or questions before we wrap up?\n",
    "\n",
    "Emma: I just want to confirm the deadline for design feedback from the team.\n",
    "\n",
    "Sarah: We'll aim to provide feedback by the end of next week. Thank you all for your contributions. Let's make this project a success. Our next meeting is scheduled for Wednesday next week. Have a productive day, everyone!\n",
    "'''"
   ]
  },
  {
   "cell_type": "code",
   "execution_count": 5,
   "id": "31ab90113ef121af",
   "metadata": {
    "ExecuteTime": {
     "end_time": "2024-03-07T15:47:25.343123Z",
     "start_time": "2024-03-07T15:47:15.926514Z"
    },
    "collapsed": false,
    "jupyter": {
     "outputs_hidden": false
    }
   },
   "outputs": [
    {
     "data": {
      "text/plain": [
       "\"The project involves developing a mobile application for our client that focuses on enhancing user engagement. The application will be built using React Native to ensure cross-platform compatibility. Once the app is ready for beta testing, we'll initiate a closed beta with selected users to gather feedback and make necessary adjustments before the official launch.\""
      ]
     },
     "execution_count": 5,
     "metadata": {},
     "output_type": "execute_result"
    }
   ],
   "source": [
    "import ktrain\n",
    "from ktrain import text\n",
    "\n",
    "ts = text.TransformerSummarizer()\n",
    "ts.summarize(text_2)"
   ]
  },
  {
   "cell_type": "code",
   "execution_count": null,
   "id": "65fcc0a656b978d7",
   "metadata": {
    "collapsed": false,
    "jupyter": {
     "outputs_hidden": false
    }
   },
   "outputs": [],
   "source": []
  }
 ],
 "metadata": {
  "kernelspec": {
   "display_name": "Python 3 (ipykernel)",
   "language": "python",
   "name": "python3"
  },
  "language_info": {
   "codemirror_mode": {
    "name": "ipython",
    "version": 3
   },
   "file_extension": ".py",
   "mimetype": "text/x-python",
   "name": "python",
   "nbconvert_exporter": "python",
   "pygments_lexer": "ipython3",
   "version": "3.9.6"
  }
 },
 "nbformat": 4,
 "nbformat_minor": 5
}
