{
 "cells": [
  {
   "cell_type": "code",
   "execution_count": null,
   "id": "initial_id",
   "metadata": {
    "collapsed": true
   },
   "outputs": [],
   "source": [
    "import os\n",
    "import sys\n",
    "import requests\n",
    "import pandas as pd\n",
    "import re\n",
    "import tensorflow as tf"
   ]
  },
  {
   "cell_type": "code",
   "outputs": [],
   "source": [
    "text = '''\n",
    "In a quaint town, nestled between rolling hills and whispering trees, lived an eccentric inventor named Amelia, who, fueled by dreams and a touch of madness, embarked on a daring quest to build a time-traveling contraption, unraveling the fabric of reality, and discovering that the true magic lay not in the machine but in the moments that shaped her journey, teaching her that the past held echoes of the future, and the key to happiness was not in altering time but in savoring the fleeting beauty of each passing moment.\n",
    "'''"
   ],
   "metadata": {
    "collapsed": false
   },
   "id": "4287e9642135d266"
  },
  {
   "cell_type": "code",
   "outputs": [],
   "source": [
    "ts.summarize(text)"
   ],
   "metadata": {
    "collapsed": false
   },
   "id": "31ab90113ef121af"
  }
 ],
 "metadata": {
  "kernelspec": {
   "display_name": "Python 3",
   "language": "python",
   "name": "python3"
  },
  "language_info": {
   "codemirror_mode": {
    "name": "ipython",
    "version": 2
   },
   "file_extension": ".py",
   "mimetype": "text/x-python",
   "name": "python",
   "nbconvert_exporter": "python",
   "pygments_lexer": "ipython2",
   "version": "2.7.6"
  }
 },
 "nbformat": 4,
 "nbformat_minor": 5
}
