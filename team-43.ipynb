{
 "cells": [
  {
   "cell_type": "code",
   "execution_count": 4,
   "id": "initial_id",
   "metadata": {
    "collapsed": true,
    "ExecuteTime": {
     "end_time": "2024-03-07T15:44:24.079564100Z",
     "start_time": "2024-03-07T15:44:24.055022200Z"
    }
   },
   "outputs": [],
   "source": [
    "import os\n",
    "import sys\n",
    "#import requests\n",
    "import pandas as pd\n",
    "import re\n",
    "#import tensorflow as tf"
   ]
  },
  {
   "cell_type": "code",
   "outputs": [],
   "source": [
    "text = '''\n",
    "In a quaint town, nestled between rolling hills and whispering trees, lived an eccentric inventor named Amelia, who, fueled by dreams and a touch of madness, embarked on a daring quest to build a time-traveling contraption, unraveling the fabric of reality, and discovering that the true magic lay not in the machine but in the moments that shaped her journey, teaching her that the past held echoes of the future, and the key to happiness was not in altering time but in savoring the fleeting beauty of each passing moment.\n",
    "'''"
   ],
   "metadata": {
    "collapsed": false,
    "ExecuteTime": {
     "end_time": "2024-03-07T15:44:25.599882400Z",
     "start_time": "2024-03-07T15:44:25.586917400Z"
    }
   },
   "id": "4287e9642135d266",
   "execution_count": 5
  },
  {
   "cell_type": "code",
   "outputs": [],
   "source": [
    "text_2 = '''\n",
    "Sarah (Project Manager): Good morning, everyone! Thank you for joining today's kickoff meeting for our new project. Let's get started. James, could you give us a brief overview of the project scope and objectives?\n",
    "\n",
    "James (Team Lead): Certainly, Sarah. The project involves developing a mobile application for our client that focuses on enhancing user engagement and streamlining their booking process. Our main goals are to deliver a user-friendly interface and ensure seamless functionality across different devices.\n",
    "\n",
    "Sarah: Great. Emma, how are we approaching the design aspect?\n",
    "\n",
    "Emma (Designer): I've already started working on some initial design concepts based on the client's preferences and industry trends. I'll share a presentation later this week to gather feedback before finalizing the design direction.\n",
    "\n",
    "Sarah: Excellent, Emma. Mark, any technical considerations we should be aware of?\n",
    "\n",
    "Mark (Developer): The application will be built using React Native to ensure cross-platform compatibility. I've outlined the technical requirements and dependencies in the project documentation, which I'll share with the team after this meeting.\n",
    "\n",
    "Sarah: Perfect. Lisa, what's the marketing strategy for the launch?\n",
    "\n",
    "Lisa (Marketing Representative): We're planning a phased approach, starting with teaser campaigns on social media to build anticipation. Once the app is ready for beta testing, we'll initiate a closed beta with selected users to gather feedback and make necessary adjustments before the official launch.\n",
    "\n",
    "Sarah: Thanks, Lisa. Team, let's establish a timeline. James, can you outline the key milestones?\n",
    "\n",
    "James: Sure, Sarah. I'll break down the development process into sprints, with a goal to have a beta version ready for testing in six weeks. We'll then allocate time for feedback and adjustments before the final launch in three months.\n",
    "\n",
    "Sarah: Sounds good. Let's schedule regular check-ins to ensure we're on track. Any final thoughts or questions before we wrap up?\n",
    "\n",
    "Emma: I just want to confirm the deadline for design feedback from the team.\n",
    "\n",
    "Sarah: We'll aim to provide feedback by the end of next week. Thank you all for your contributions. Let's make this project a success. Our next meeting is scheduled for Wednesday next week. Have a productive day, everyone!\n",
    "'''"
   ],
   "metadata": {
    "collapsed": false,
    "ExecuteTime": {
     "end_time": "2024-03-07T15:44:26.104184100Z",
     "start_time": "2024-03-07T15:44:26.083098500Z"
    }
   },
   "id": "1df4f71d4b112ab6",
   "execution_count": 6
  },
  {
   "cell_type": "code",
   "outputs": [
    {
     "ename": "Exception",
     "evalue": "This capability in ktrain requires PyTorch to be installed. Please install for your environment: https://pytorch.org/get-started/locally/",
     "output_type": "error",
     "traceback": [
      "\u001B[1;31m---------------------------------------------------------------------------\u001B[0m",
      "\u001B[1;31mModuleNotFoundError\u001B[0m                       Traceback (most recent call last)",
      "File \u001B[1;32m~\\AppData\\Local\\Programs\\Python\\Python39\\lib\\site-packages\\ktrain\\torch_base.py:22\u001B[0m, in \u001B[0;36mTorchBase.__init__\u001B[1;34m(self, device, quantize, min_transformers_version)\u001B[0m\n\u001B[0;32m     21\u001B[0m \u001B[38;5;28;01mtry\u001B[39;00m:\n\u001B[1;32m---> 22\u001B[0m     \u001B[38;5;28;01mimport\u001B[39;00m \u001B[38;5;21;01mtorch\u001B[39;00m\n\u001B[0;32m     23\u001B[0m \u001B[38;5;28;01mexcept\u001B[39;00m (\u001B[38;5;167;01mImportError\u001B[39;00m, \u001B[38;5;167;01mOSError\u001B[39;00m):\n",
      "\u001B[1;31mModuleNotFoundError\u001B[0m: No module named 'torch'",
      "\nDuring handling of the above exception, another exception occurred:\n",
      "\u001B[1;31mException\u001B[0m                                 Traceback (most recent call last)",
      "Cell \u001B[1;32mIn[7], line 4\u001B[0m\n\u001B[0;32m      1\u001B[0m \u001B[38;5;28;01mimport\u001B[39;00m \u001B[38;5;21;01mktrain\u001B[39;00m\n\u001B[0;32m      2\u001B[0m \u001B[38;5;28;01mfrom\u001B[39;00m \u001B[38;5;21;01mktrain\u001B[39;00m \u001B[38;5;28;01mimport\u001B[39;00m text\n\u001B[1;32m----> 4\u001B[0m ts \u001B[38;5;241m=\u001B[39m \u001B[43mtext\u001B[49m\u001B[38;5;241;43m.\u001B[39;49m\u001B[43mTransformerSummarizer\u001B[49m\u001B[43m(\u001B[49m\u001B[43m)\u001B[49m\n\u001B[0;32m      5\u001B[0m ts\u001B[38;5;241m.\u001B[39msummarize(text_2)\n",
      "File \u001B[1;32m~\\AppData\\Local\\Programs\\Python\\Python39\\lib\\site-packages\\ktrain\\text\\summarization\\core.py:21\u001B[0m, in \u001B[0;36mTransformerSummarizer.__init__\u001B[1;34m(self, model_name, device)\u001B[0m\n\u001B[0;32m     19\u001B[0m \u001B[38;5;28;01mif\u001B[39;00m \u001B[38;5;124m\"\u001B[39m\u001B[38;5;124mbart\u001B[39m\u001B[38;5;124m\"\u001B[39m \u001B[38;5;129;01mnot\u001B[39;00m \u001B[38;5;129;01min\u001B[39;00m model_name:\n\u001B[0;32m     20\u001B[0m     \u001B[38;5;28;01mraise\u001B[39;00m \u001B[38;5;167;01mValueError\u001B[39;00m(\u001B[38;5;124m\"\u001B[39m\u001B[38;5;124mTransformerSummarizer currently only accepts BART models\u001B[39m\u001B[38;5;124m\"\u001B[39m)\n\u001B[1;32m---> 21\u001B[0m \u001B[38;5;28;43msuper\u001B[39;49m\u001B[43m(\u001B[49m\u001B[43m)\u001B[49m\u001B[38;5;241;43m.\u001B[39;49m\u001B[38;5;21;43m__init__\u001B[39;49m\u001B[43m(\u001B[49m\u001B[43mdevice\u001B[49m\u001B[38;5;241;43m=\u001B[39;49m\u001B[43mdevice\u001B[49m\u001B[43m)\u001B[49m\n\u001B[0;32m     22\u001B[0m \u001B[38;5;28;01mfrom\u001B[39;00m \u001B[38;5;21;01mtransformers\u001B[39;00m \u001B[38;5;28;01mimport\u001B[39;00m BartForConditionalGeneration, BartTokenizer\n\u001B[0;32m     24\u001B[0m \u001B[38;5;28mself\u001B[39m\u001B[38;5;241m.\u001B[39mtokenizer \u001B[38;5;241m=\u001B[39m BartTokenizer\u001B[38;5;241m.\u001B[39mfrom_pretrained(model_name)\n",
      "File \u001B[1;32m~\\AppData\\Local\\Programs\\Python\\Python39\\lib\\site-packages\\ktrain\\torch_base.py:24\u001B[0m, in \u001B[0;36mTorchBase.__init__\u001B[1;34m(self, device, quantize, min_transformers_version)\u001B[0m\n\u001B[0;32m     22\u001B[0m     \u001B[38;5;28;01mimport\u001B[39;00m \u001B[38;5;21;01mtorch\u001B[39;00m\n\u001B[0;32m     23\u001B[0m \u001B[38;5;28;01mexcept\u001B[39;00m (\u001B[38;5;167;01mImportError\u001B[39;00m, \u001B[38;5;167;01mOSError\u001B[39;00m):\n\u001B[1;32m---> 24\u001B[0m     \u001B[38;5;28;01mraise\u001B[39;00m \u001B[38;5;167;01mException\u001B[39;00m(\n\u001B[0;32m     25\u001B[0m         \u001B[38;5;124m\"\u001B[39m\u001B[38;5;124mThis capability in ktrain requires PyTorch to be installed. Please install for your environment: \u001B[39m\u001B[38;5;124m\"\u001B[39m\n\u001B[0;32m     26\u001B[0m         \u001B[38;5;241m+\u001B[39m \u001B[38;5;124m\"\u001B[39m\u001B[38;5;124mhttps://pytorch.org/get-started/locally/\u001B[39m\u001B[38;5;124m\"\u001B[39m\n\u001B[0;32m     27\u001B[0m     )\n\u001B[0;32m     28\u001B[0m \u001B[38;5;28mself\u001B[39m\u001B[38;5;241m.\u001B[39mquantize \u001B[38;5;241m=\u001B[39m quantize\n\u001B[0;32m     29\u001B[0m \u001B[38;5;28mself\u001B[39m\u001B[38;5;241m.\u001B[39mtorch_device \u001B[38;5;241m=\u001B[39m device\n",
      "\u001B[1;31mException\u001B[0m: This capability in ktrain requires PyTorch to be installed. Please install for your environment: https://pytorch.org/get-started/locally/"
     ]
    }
   ],
   "source": [
    "import ktrain\n",
    "from ktrain import text\n",
    "\n",
    "ts = text.TransformerSummarizer()\n",
    "ts.summarize(text_2)"
   ],
   "metadata": {
    "collapsed": false,
    "ExecuteTime": {
     "end_time": "2024-03-07T15:44:35.374161Z",
     "start_time": "2024-03-07T15:44:26.851825Z"
    }
   },
   "id": "31ab90113ef121af",
   "execution_count": 7
  },
  {
   "cell_type": "code",
   "outputs": [],
   "source": [],
   "metadata": {
    "collapsed": false
   },
   "id": "65fcc0a656b978d7"
  }
 ],
 "metadata": {
  "kernelspec": {
   "display_name": "Python 3",
   "language": "python",
   "name": "python3"
  },
  "language_info": {
   "codemirror_mode": {
    "name": "ipython",
    "version": 2
   },
   "file_extension": ".py",
   "mimetype": "text/x-python",
   "name": "python",
   "nbconvert_exporter": "python",
   "pygments_lexer": "ipython2",
   "version": "2.7.6"
  }
 },
 "nbformat": 4,
 "nbformat_minor": 5
}
