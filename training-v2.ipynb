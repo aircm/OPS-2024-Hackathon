{
 "cells": [
  {
   "cell_type": "markdown",
   "id": "13daea890869d90d",
   "metadata": {
    "collapsed": false,
    "jupyter": {
     "outputs_hidden": false
    }
   },
   "source": [
    "# Text Classification - Model Training\n",
    "\n",
    "**Author:** Airc Miao\n",
    "**Date:** 2024-02-17"
   ]
  },
  {
   "cell_type": "code",
   "execution_count": 1,
   "id": "dc12da962874c8aa",
   "metadata": {
    "ExecuteTime": {
     "end_time": "2024-03-06T23:44:18.822002Z",
     "start_time": "2024-03-06T23:44:18.818274Z"
    },
    "collapsed": false,
    "jupyter": {
     "outputs_hidden": false
    }
   },
   "outputs": [],
   "source": [
    "#!pip install pyarrow\n",
    "#!python -m spacy download en_core_web_trf"
   ]
  },
  {
   "cell_type": "code",
   "execution_count": null,
   "id": "91baafaddc4594c1",
   "metadata": {
    "ExecuteTime": {
     "start_time": "2024-03-06T23:44:18.823739Z"
    },
    "collapsed": false,
    "is_executing": true,
    "jupyter": {
     "outputs_hidden": false
    }
   },
   "outputs": [],
   "source": [
    "import pandas as pd\n",
    "import re\n",
    "import tensorflow as tf\n",
    "from spacy.util import minibatch, compounding\n",
    "import spacy\n",
    "from spacy.matcher import Matcher\n",
    "import multiprocessing\n",
    "from pandarallel import pandarallel\n",
    "\n",
    "from sklearn.model_selection import train_test_split\n",
    "\n",
    "num_processors = multiprocessing.cpu_count()\n",
    "print(f'Available CPUs: {num_processors}')\n",
    "\n",
    "pandarallel.initialize(nb_workers=num_processors-1, use_memory_fs=False)\n",
    "\n",
    "seed_value = 42"
   ]
  },
  {
   "cell_type": "markdown",
   "id": "d5157d6aac543ead",
   "metadata": {
    "collapsed": false,
    "jupyter": {
     "outputs_hidden": false
    }
   },
   "source": [
    "## 1. Data Cleaning"
   ]
  },
  {
   "cell_type": "code",
   "execution_count": 3,
   "id": "cdef3730b06ba967",
   "metadata": {
    "ExecuteTime": {
     "end_time": "2024-02-18T02:18:23.017418Z",
     "start_time": "2024-02-18T02:18:22.983348Z"
    },
    "collapsed": false,
    "jupyter": {
     "outputs_hidden": false
    }
   },
   "outputs": [
    {
     "data": {
      "text/html": [
       "<div>\n",
       "<style scoped>\n",
       "    .dataframe tbody tr th:only-of-type {\n",
       "        vertical-align: middle;\n",
       "    }\n",
       "\n",
       "    .dataframe tbody tr th {\n",
       "        vertical-align: top;\n",
       "    }\n",
       "\n",
       "    .dataframe thead th {\n",
       "        text-align: right;\n",
       "    }\n",
       "</style>\n",
       "<table border=\"1\" class=\"dataframe\">\n",
       "  <thead>\n",
       "    <tr style=\"text-align: right;\">\n",
       "      <th></th>\n",
       "      <th>complaint_id</th>\n",
       "      <th>date_received</th>\n",
       "      <th>district_occurrence</th>\n",
       "      <th>general_cap_classification</th>\n",
       "      <th>summary</th>\n",
       "      <th>incident_date_extract</th>\n",
       "      <th>incident_time_extract</th>\n",
       "      <th>objectid</th>\n",
       "      <th>label</th>\n",
       "    </tr>\n",
       "  </thead>\n",
       "  <tbody>\n",
       "    <tr>\n",
       "      <th>0</th>\n",
       "      <td>22-0529</td>\n",
       "      <td>2022-11-09 05:00:00+00</td>\n",
       "      <td>1200.0</td>\n",
       "      <td>CIVIL RIGHTS COMPLAINT</td>\n",
       "      <td>According to the complainant, on 11-6-22 at 8:...</td>\n",
       "      <td>11/06/2022</td>\n",
       "      <td>8:40 PM</td>\n",
       "      <td>7015</td>\n",
       "      <td>low</td>\n",
       "    </tr>\n",
       "    <tr>\n",
       "      <th>1</th>\n",
       "      <td>22-0530</td>\n",
       "      <td>2022-11-10 05:00:00+00</td>\n",
       "      <td>2400.0</td>\n",
       "      <td>UNPROFESSIONAL CONDUCT</td>\n",
       "      <td>According to the complainant, on 11-6-22 at 8:...</td>\n",
       "      <td>11/06/2022</td>\n",
       "      <td>8:30 PM</td>\n",
       "      <td>7016</td>\n",
       "      <td>medium</td>\n",
       "    </tr>\n",
       "    <tr>\n",
       "      <th>2</th>\n",
       "      <td>22-0531</td>\n",
       "      <td>2022-11-10 05:00:00+00</td>\n",
       "      <td>3900.0</td>\n",
       "      <td>DEPARTMENTAL VIOLATIONS</td>\n",
       "      <td>According to the complainant, on 11-2-22 at 9:...</td>\n",
       "      <td>11/02/2022</td>\n",
       "      <td>9:57 PM</td>\n",
       "      <td>7017</td>\n",
       "      <td>medium</td>\n",
       "    </tr>\n",
       "    <tr>\n",
       "      <th>3</th>\n",
       "      <td>22-0532</td>\n",
       "      <td>2022-11-09 05:00:00+00</td>\n",
       "      <td>2200.0</td>\n",
       "      <td>HARASSMENT</td>\n",
       "      <td>According to the complainant, on 10-21-22, the...</td>\n",
       "      <td>10/21/2022</td>\n",
       "      <td>NaN</td>\n",
       "      <td>7018</td>\n",
       "      <td>high</td>\n",
       "    </tr>\n",
       "    <tr>\n",
       "      <th>4</th>\n",
       "      <td>22-0533</td>\n",
       "      <td>2022-11-10 05:00:00+00</td>\n",
       "      <td>2200.0</td>\n",
       "      <td>LACK OF SERVICE</td>\n",
       "      <td>According to the complainant, on 10-30-22, whi...</td>\n",
       "      <td>10/30/2022</td>\n",
       "      <td>NaN</td>\n",
       "      <td>7019</td>\n",
       "      <td>low</td>\n",
       "    </tr>\n",
       "  </tbody>\n",
       "</table>\n",
       "</div>"
      ],
      "text/plain": [
       "  complaint_id           date_received  district_occurrence  \\\n",
       "0      22-0529  2022-11-09 05:00:00+00               1200.0   \n",
       "1      22-0530  2022-11-10 05:00:00+00               2400.0   \n",
       "2      22-0531  2022-11-10 05:00:00+00               3900.0   \n",
       "3      22-0532  2022-11-09 05:00:00+00               2200.0   \n",
       "4      22-0533  2022-11-10 05:00:00+00               2200.0   \n",
       "\n",
       "  general_cap_classification  \\\n",
       "0     CIVIL RIGHTS COMPLAINT   \n",
       "1     UNPROFESSIONAL CONDUCT   \n",
       "2    DEPARTMENTAL VIOLATIONS   \n",
       "3                 HARASSMENT   \n",
       "4            LACK OF SERVICE   \n",
       "\n",
       "                                             summary incident_date_extract  \\\n",
       "0  According to the complainant, on 11-6-22 at 8:...            11/06/2022   \n",
       "1  According to the complainant, on 11-6-22 at 8:...            11/06/2022   \n",
       "2  According to the complainant, on 11-2-22 at 9:...            11/02/2022   \n",
       "3  According to the complainant, on 10-21-22, the...            10/21/2022   \n",
       "4  According to the complainant, on 10-30-22, whi...            10/30/2022   \n",
       "\n",
       "  incident_time_extract  objectid   label  \n",
       "0               8:40 PM      7015     low  \n",
       "1               8:30 PM      7016  medium  \n",
       "2               9:57 PM      7017  medium  \n",
       "3                   NaN      7018    high  \n",
       "4                   NaN      7019     low  "
      ]
     },
     "execution_count": 3,
     "metadata": {},
     "output_type": "execute_result"
    }
   ],
   "source": [
    "# Load csv data\n",
    "df = pd.read_csv('data/df_new.csv')\n",
    "df.head()"
   ]
  },
  {
   "cell_type": "markdown",
   "id": "3f5d63da5f1398ed",
   "metadata": {
    "collapsed": false,
    "jupyter": {
     "outputs_hidden": false
    }
   },
   "source": [
    "Only keep the columns we need: general_cap_classification, summary, label"
   ]
  },
  {
   "cell_type": "code",
   "execution_count": 4,
   "id": "6ed427931837537f",
   "metadata": {
    "ExecuteTime": {
     "end_time": "2024-02-18T02:18:23.018166Z",
     "start_time": "2024-02-18T02:18:23.008853Z"
    },
    "collapsed": false,
    "jupyter": {
     "outputs_hidden": false
    }
   },
   "outputs": [
    {
     "data": {
      "text/html": [
       "<div>\n",
       "<style scoped>\n",
       "    .dataframe tbody tr th:only-of-type {\n",
       "        vertical-align: middle;\n",
       "    }\n",
       "\n",
       "    .dataframe tbody tr th {\n",
       "        vertical-align: top;\n",
       "    }\n",
       "\n",
       "    .dataframe thead th {\n",
       "        text-align: right;\n",
       "    }\n",
       "</style>\n",
       "<table border=\"1\" class=\"dataframe\">\n",
       "  <thead>\n",
       "    <tr style=\"text-align: right;\">\n",
       "      <th></th>\n",
       "      <th>general_cap_classification</th>\n",
       "      <th>summary</th>\n",
       "      <th>label</th>\n",
       "    </tr>\n",
       "  </thead>\n",
       "  <tbody>\n",
       "    <tr>\n",
       "      <th>0</th>\n",
       "      <td>CIVIL RIGHTS COMPLAINT</td>\n",
       "      <td>According to the complainant, on 11-6-22 at 8:...</td>\n",
       "      <td>low</td>\n",
       "    </tr>\n",
       "    <tr>\n",
       "      <th>1</th>\n",
       "      <td>UNPROFESSIONAL CONDUCT</td>\n",
       "      <td>According to the complainant, on 11-6-22 at 8:...</td>\n",
       "      <td>medium</td>\n",
       "    </tr>\n",
       "    <tr>\n",
       "      <th>2</th>\n",
       "      <td>DEPARTMENTAL VIOLATIONS</td>\n",
       "      <td>According to the complainant, on 11-2-22 at 9:...</td>\n",
       "      <td>medium</td>\n",
       "    </tr>\n",
       "    <tr>\n",
       "      <th>3</th>\n",
       "      <td>HARASSMENT</td>\n",
       "      <td>According to the complainant, on 10-21-22, the...</td>\n",
       "      <td>high</td>\n",
       "    </tr>\n",
       "    <tr>\n",
       "      <th>4</th>\n",
       "      <td>LACK OF SERVICE</td>\n",
       "      <td>According to the complainant, on 10-30-22, whi...</td>\n",
       "      <td>low</td>\n",
       "    </tr>\n",
       "  </tbody>\n",
       "</table>\n",
       "</div>"
      ],
      "text/plain": [
       "  general_cap_classification  \\\n",
       "0     CIVIL RIGHTS COMPLAINT   \n",
       "1     UNPROFESSIONAL CONDUCT   \n",
       "2    DEPARTMENTAL VIOLATIONS   \n",
       "3                 HARASSMENT   \n",
       "4            LACK OF SERVICE   \n",
       "\n",
       "                                             summary   label  \n",
       "0  According to the complainant, on 11-6-22 at 8:...     low  \n",
       "1  According to the complainant, on 11-6-22 at 8:...  medium  \n",
       "2  According to the complainant, on 11-2-22 at 9:...  medium  \n",
       "3  According to the complainant, on 10-21-22, the...    high  \n",
       "4  According to the complainant, on 10-30-22, whi...     low  "
      ]
     },
     "execution_count": 4,
     "metadata": {},
     "output_type": "execute_result"
    }
   ],
   "source": [
    "df_cleaned = df[['general_cap_classification', 'summary', 'label']]\n",
    "df_cleaned.head()"
   ]
  },
  {
   "cell_type": "code",
   "execution_count": 5,
   "id": "a2fbfc211ea6e455",
   "metadata": {
    "ExecuteTime": {
     "end_time": "2024-02-18T02:18:23.018425Z",
     "start_time": "2024-02-18T02:18:23.012607Z"
    },
    "collapsed": false,
    "jupyter": {
     "outputs_hidden": false
    }
   },
   "outputs": [],
   "source": [
    "df_cleaned = df_cleaned.map(lambda x: x.strip() if isinstance(x, str) else x)"
   ]
  },
  {
   "cell_type": "code",
   "execution_count": 6,
   "id": "46b94e2c3784a935",
   "metadata": {
    "ExecuteTime": {
     "end_time": "2024-02-18T02:18:23.024522Z",
     "start_time": "2024-02-18T02:18:23.019068Z"
    },
    "collapsed": false,
    "jupyter": {
     "outputs_hidden": false
    }
   },
   "outputs": [
    {
     "data": {
      "text/plain": [
       "general_cap_classification\n",
       "DEPARTMENTAL VIOLATIONS       1215\n",
       "LACK OF SERVICE               1063\n",
       "PHYSICAL ABUSE                 654\n",
       "VERBAL ABUSE                   375\n",
       "UNPROFESSIONAL CONDUCT         366\n",
       "HARASSMENT                     182\n",
       "CIVIL RIGHTS COMPLAINT         166\n",
       "CRIMINAL ALLEGATION            161\n",
       "NON-INVESTIGATORY INCIDENT     110\n",
       "DOMESTIC                        52\n",
       "FALSIFICATION                   29\n",
       "SEXUAL CRIME/MISCONDUCT         19\n",
       "DRUGS                            4\n",
       "FORCE-TASER/CED/ECW              1\n",
       "OTHER MISCONDUCT                 1\n",
       "USE OF FORCE INTERNAL            1\n",
       "Name: count, dtype: int64"
      ]
     },
     "execution_count": 6,
     "metadata": {},
     "output_type": "execute_result"
    }
   ],
   "source": [
    "df_cleaned[['general_cap_classification']].value_counts()"
   ]
  },
  {
   "cell_type": "markdown",
   "id": "7beed99e363e9f06",
   "metadata": {
    "collapsed": false,
    "jupyter": {
     "outputs_hidden": false
    }
   },
   "source": [
    "We can see this column data is not balanced. Some of them only have 1 record."
   ]
  },
  {
   "cell_type": "code",
   "execution_count": 7,
   "id": "8f800f1c7b6f8f73",
   "metadata": {
    "ExecuteTime": {
     "end_time": "2024-02-18T02:18:23.025414Z",
     "start_time": "2024-02-18T02:18:23.022240Z"
    },
    "collapsed": false,
    "jupyter": {
     "outputs_hidden": false
    }
   },
   "outputs": [
    {
     "data": {
      "text/plain": [
       "label \n",
       "medium    1859\n",
       "low       1441\n",
       "high      1159\n",
       "Name: count, dtype: int64"
      ]
     },
     "execution_count": 7,
     "metadata": {},
     "output_type": "execute_result"
    }
   ],
   "source": [
    "df_cleaned[['label']].value_counts()"
   ]
  },
  {
   "cell_type": "markdown",
   "id": "85182795864717c4",
   "metadata": {
    "collapsed": false,
    "jupyter": {
     "outputs_hidden": false
    }
   },
   "source": []
  },
  {
   "cell_type": "code",
   "execution_count": 8,
   "id": "6f4e33400b5db552",
   "metadata": {
    "ExecuteTime": {
     "end_time": "2024-02-18T02:18:23.029358Z",
     "start_time": "2024-02-18T02:18:23.027288Z"
    },
    "collapsed": false,
    "jupyter": {
     "outputs_hidden": false
    }
   },
   "outputs": [
    {
     "data": {
      "text/plain": [
       "general_cap_classification     60\n",
       "summary                       195\n",
       "label                           0\n",
       "dtype: int64"
      ]
     },
     "execution_count": 8,
     "metadata": {},
     "output_type": "execute_result"
    }
   ],
   "source": [
    "df_cleaned.isnull().sum()"
   ]
  },
  {
   "cell_type": "markdown",
   "id": "bbf87f2beaf6d93b",
   "metadata": {
    "collapsed": false,
    "jupyter": {
     "outputs_hidden": false
    }
   },
   "source": [
    "Drop any row with empty value"
   ]
  },
  {
   "cell_type": "code",
   "execution_count": 9,
   "id": "8890ec160854d473",
   "metadata": {
    "ExecuteTime": {
     "end_time": "2024-02-18T02:18:23.067517Z",
     "start_time": "2024-02-18T02:18:23.030724Z"
    },
    "collapsed": false,
    "jupyter": {
     "outputs_hidden": false
    }
   },
   "outputs": [
    {
     "data": {
      "text/plain": [
       "general_cap_classification    0\n",
       "summary                       0\n",
       "label                         0\n",
       "dtype: int64"
      ]
     },
     "execution_count": 9,
     "metadata": {},
     "output_type": "execute_result"
    }
   ],
   "source": [
    "df_cleaned = df_cleaned.dropna()\n",
    "df_cleaned.isnull().sum()"
   ]
  },
  {
   "cell_type": "code",
   "execution_count": 10,
   "id": "6b476cdd3a86f81",
   "metadata": {
    "ExecuteTime": {
     "end_time": "2024-02-18T02:18:23.067915Z",
     "start_time": "2024-02-18T02:18:23.036337Z"
    },
    "collapsed": false,
    "jupyter": {
     "outputs_hidden": false
    }
   },
   "outputs": [],
   "source": [
    "# Combine the general_cap_classification and summary into one column\n",
    "df_cleaned['text'] = df_cleaned['general_cap_classification'] + '. ' + df_cleaned['summary']"
   ]
  },
  {
   "cell_type": "markdown",
   "id": "f85db0d760d3d865",
   "metadata": {
    "collapsed": false,
    "jupyter": {
     "outputs_hidden": false
    }
   },
   "source": [
    "We will clean the following words from the summary column:\n",
    "- \"According to the complainant,\"\n",
    "- Dates\n",
    "- Time\n",
    "- Locations"
   ]
  },
  {
   "cell_type": "code",
   "execution_count": 11,
   "id": "c7dfb431f0973d82",
   "metadata": {
    "ExecuteTime": {
     "end_time": "2024-02-18T02:18:23.308347Z",
     "start_time": "2024-02-18T02:18:23.146173Z"
    },
    "collapsed": false,
    "jupyter": {
     "outputs_hidden": false
    }
   },
   "outputs": [],
   "source": [
    "import nltk\n",
    "from nltk.corpus import stopwords\n",
    "\n",
    "def cleanAndTokenizeText(txt):\n",
    "    # Remove \"According to the complainant,\"\n",
    "    txt = txt.replace('According to the complainant,', '')\n",
    "\n",
    "    # Remove dates\n",
    "    date_pattern= r'(?:\\,\\s)*(?:on\\s)*\\d+-\\d+-\\d+[\\s]*[\\,]*'\n",
    "    txt = re.sub(date_pattern, '', txt, flags=re.IGNORECASE)\n",
    "\n",
    "    # Remove time\n",
    "    time_pattern= r'(at)?\\s?\\d+:\\d+\\s?(AM|PM)?\\,?\\s?'\n",
    "    txt = re.sub(time_pattern, '', txt, flags=re.IGNORECASE)\n",
    "\n",
    "    # Remove locations of patter of (the\\s)?\\d+\\w+\\s?District\n",
    "    location_pattern= r'(the\\s)?\\d+\\w+\\s?District'\n",
    "    txt = re.sub(location_pattern, '', txt, flags=re.IGNORECASE)\n",
    "\n",
    "    # Remove \"While in the confines of ,\"\n",
    "    txt = txt.replace(\"While in the confines of ,\", '')\n",
    "\n",
    "    words = nltk.tokenize.word_tokenize(txt)\n",
    "    \n",
    "    # make all lower case\n",
    "    words = [word.lower() for word in words]\n",
    "\n",
    "    #stopwords\n",
    "    stopwords = set(nltk.corpus.stopwords.words('english'))\n",
    "    \n",
    "    # Remove stopwords\n",
    "    words = [word for word in words if word.lower() not in stopwords]\n",
    "    \n",
    "    # Remove punctuation\n",
    "    words = [word for word in words if word.isalnum()]\n",
    "    \n",
    "    # Stemming\n",
    "    stemmer = nltk.stem.PorterStemmer()\n",
    "    words = [stemmer.stem(word) for word in words]\n",
    "    \n",
    "    # Remove numbers\n",
    "    words = [word for word in words if not word.isdigit()]\n",
    "    \n",
    "    # remove only one-letter words\n",
    "    words = [word for word in words if len(word) > 1]\n",
    "    \n",
    "    # return text of words\n",
    "    return ' '.join(words)"
   ]
  },
  {
   "cell_type": "code",
   "execution_count": 12,
   "id": "403d3d584cdf31e0",
   "metadata": {
    "ExecuteTime": {
     "end_time": "2024-02-18T02:18:24.108007Z",
     "start_time": "2024-02-18T02:18:23.309404Z"
    },
    "collapsed": false,
    "jupyter": {
     "outputs_hidden": false
    }
   },
   "outputs": [
    {
     "data": {
      "text/html": [
       "<div>\n",
       "<style scoped>\n",
       "    .dataframe tbody tr th:only-of-type {\n",
       "        vertical-align: middle;\n",
       "    }\n",
       "\n",
       "    .dataframe tbody tr th {\n",
       "        vertical-align: top;\n",
       "    }\n",
       "\n",
       "    .dataframe thead th {\n",
       "        text-align: right;\n",
       "    }\n",
       "</style>\n",
       "<table border=\"1\" class=\"dataframe\">\n",
       "  <thead>\n",
       "    <tr style=\"text-align: right;\">\n",
       "      <th></th>\n",
       "      <th>general_cap_classification</th>\n",
       "      <th>summary</th>\n",
       "      <th>label</th>\n",
       "      <th>text</th>\n",
       "    </tr>\n",
       "  </thead>\n",
       "  <tbody>\n",
       "    <tr>\n",
       "      <th>0</th>\n",
       "      <td>CIVIL RIGHTS COMPLAINT</td>\n",
       "      <td>According to the complainant, on 11-6-22 at 8:...</td>\n",
       "      <td>low</td>\n",
       "      <td>civil right complaint confin stop polic tag co...</td>\n",
       "    </tr>\n",
       "    <tr>\n",
       "      <th>1</th>\n",
       "      <td>UNPROFESSIONAL CONDUCT</td>\n",
       "      <td>According to the complainant, on 11-6-22 at 8:...</td>\n",
       "      <td>medium</td>\n",
       "      <td>unprofession conduct confin treat unprofession...</td>\n",
       "    </tr>\n",
       "    <tr>\n",
       "      <th>2</th>\n",
       "      <td>DEPARTMENTAL VIOLATIONS</td>\n",
       "      <td>According to the complainant, on 11-2-22 at 9:...</td>\n",
       "      <td>medium</td>\n",
       "      <td>department violat confin department polici vio...</td>\n",
       "    </tr>\n",
       "    <tr>\n",
       "      <th>3</th>\n",
       "      <td>HARASSMENT</td>\n",
       "      <td>According to the complainant, on 10-21-22, the...</td>\n",
       "      <td>high</td>\n",
       "      <td>harass harass offic offic threaten catch face ...</td>\n",
       "    </tr>\n",
       "    <tr>\n",
       "      <th>4</th>\n",
       "      <td>LACK OF SERVICE</td>\n",
       "      <td>According to the complainant, on 10-30-22, whi...</td>\n",
       "      <td>low</td>\n",
       "      <td>lack servic confin receiv proper servic offic ...</td>\n",
       "    </tr>\n",
       "  </tbody>\n",
       "</table>\n",
       "</div>"
      ],
      "text/plain": [
       "  general_cap_classification  \\\n",
       "0     CIVIL RIGHTS COMPLAINT   \n",
       "1     UNPROFESSIONAL CONDUCT   \n",
       "2    DEPARTMENTAL VIOLATIONS   \n",
       "3                 HARASSMENT   \n",
       "4            LACK OF SERVICE   \n",
       "\n",
       "                                             summary   label  \\\n",
       "0  According to the complainant, on 11-6-22 at 8:...     low   \n",
       "1  According to the complainant, on 11-6-22 at 8:...  medium   \n",
       "2  According to the complainant, on 11-2-22 at 9:...  medium   \n",
       "3  According to the complainant, on 10-21-22, the...    high   \n",
       "4  According to the complainant, on 10-30-22, whi...     low   \n",
       "\n",
       "                                                text  \n",
       "0  civil right complaint confin stop polic tag co...  \n",
       "1  unprofession conduct confin treat unprofession...  \n",
       "2  department violat confin department polici vio...  \n",
       "3  harass harass offic offic threaten catch face ...  \n",
       "4  lack servic confin receiv proper servic offic ...  "
      ]
     },
     "execution_count": 12,
     "metadata": {},
     "output_type": "execute_result"
    }
   ],
   "source": [
    "df_cleaned['text']  = df_cleaned['text'] .parallel_apply(cleanAndTokenizeText)\n",
    "df_cleaned = df_cleaned.dropna()\n",
    "\n",
    "df_cleaned.head(5)"
   ]
  },
  {
   "cell_type": "code",
   "execution_count": 13,
   "id": "5ba84d82f9c408db",
   "metadata": {
    "ExecuteTime": {
     "end_time": "2024-02-18T02:18:24.108539Z",
     "start_time": "2024-02-18T02:18:24.103694Z"
    },
    "collapsed": false,
    "jupyter": {
     "outputs_hidden": false
    }
   },
   "outputs": [
    {
     "data": {
      "text/plain": [
       "(4234, 4)"
      ]
     },
     "execution_count": 13,
     "metadata": {},
     "output_type": "execute_result"
    }
   ],
   "source": [
    "# Total number of rows\n",
    "df_cleaned.shape"
   ]
  },
  {
   "cell_type": "markdown",
   "id": "2b5aa46c7c5915b8",
   "metadata": {
    "collapsed": false,
    "jupyter": {
     "outputs_hidden": false
    }
   },
   "source": [
    "# 2. Train and Test Split\n",
    "\n",
    "Split the data into training and testing data, label as y and text as X"
   ]
  },
  {
   "cell_type": "code",
   "execution_count": 14,
   "id": "5f7fc17e7dde7d9e",
   "metadata": {
    "ExecuteTime": {
     "end_time": "2024-02-18T02:18:24.113045Z",
     "start_time": "2024-02-18T02:18:24.108818Z"
    },
    "collapsed": false,
    "jupyter": {
     "outputs_hidden": false
    }
   },
   "outputs": [
    {
     "name": "stdout",
     "output_type": "stream",
     "text": [
      "Training data shape: (3387,)\n",
      "Testing data shape: (847,)\n"
     ]
    }
   ],
   "source": [
    "X_train, X_test, y_train, y_test = train_test_split(df_cleaned['text'], df_cleaned['label'], test_size=0.2, random_state=seed_value, stratify=df_cleaned['label'])\n",
    "\n",
    "# print the shape of the train and test data\n",
    "print(f'Training data shape: {X_train.shape}')\n",
    "print(f'Testing data shape: {X_test.shape}')"
   ]
  },
  {
   "cell_type": "code",
   "execution_count": 15,
   "id": "8333ee05331a1937",
   "metadata": {
    "ExecuteTime": {
     "end_time": "2024-02-18T02:18:24.124696Z",
     "start_time": "2024-02-18T02:18:24.113305Z"
    },
    "collapsed": false,
    "jupyter": {
     "outputs_hidden": false
    }
   },
   "outputs": [
    {
     "data": {
      "text/plain": [
       "3687    lack servic lack servic complaint receiv unkno...\n",
       "2627    department violat receiv proper servic departm...\n",
       "355     department violat confin famili member stop po...\n",
       "729                           harass confin intimid offic\n",
       "4047    unprofession conduct treat rude manner receiv ...\n",
       "Name: text, dtype: object"
      ]
     },
     "execution_count": 15,
     "metadata": {},
     "output_type": "execute_result"
    }
   ],
   "source": [
    "X_train.head()"
   ]
  },
  {
   "cell_type": "code",
   "execution_count": 16,
   "id": "bc2b732f5c1c137e",
   "metadata": {
    "ExecuteTime": {
     "end_time": "2024-02-18T02:19:17.389730Z",
     "start_time": "2024-02-18T02:19:17.374588Z"
    },
    "collapsed": false,
    "jupyter": {
     "outputs_hidden": false
    }
   },
   "outputs": [
    {
     "data": {
      "text/plain": [
       "3687       low\n",
       "2627    medium\n",
       "355       high\n",
       "729       high\n",
       "4047    medium\n",
       "Name: label, dtype: object"
      ]
     },
     "execution_count": 16,
     "metadata": {},
     "output_type": "execute_result"
    }
   ],
   "source": [
    "y_train.head()\n"
   ]
  },
  {
   "cell_type": "markdown",
   "id": "ad7448dc3d54a154",
   "metadata": {
    "collapsed": false,
    "jupyter": {
     "outputs_hidden": false
    }
   },
   "source": [
    "# 3. Text Preprocessing\n",
    "\n",
    "## 3.1. CountVectorizer"
   ]
  },
  {
   "cell_type": "code",
   "execution_count": 17,
   "id": "6ca5e83ad3f4a89a",
   "metadata": {
    "ExecuteTime": {
     "end_time": "2024-02-18T02:23:36.246488Z",
     "start_time": "2024-02-18T02:23:36.132966Z"
    },
    "collapsed": false,
    "jupyter": {
     "outputs_hidden": false
    }
   },
   "outputs": [],
   "source": [
    "from sklearn.feature_extraction.text import CountVectorizer\n",
    "\n",
    "# Create a CountVectorizer object\n",
    "cv_obj = CountVectorizer(ngram_range=(1, 3))\n",
    "\n",
    "# Fit and transform the training data\n",
    "X_train_cv = cv_obj.fit_transform(X_train)\n",
    "\n",
    "# Transform the testing data\n",
    "X_test_cv = cv_obj.transform(X_test)\n"
   ]
  },
  {
   "cell_type": "code",
   "execution_count": 18,
   "id": "76adb3b0a7fde012",
   "metadata": {
    "ExecuteTime": {
     "end_time": "2024-02-18T02:23:39.493653Z",
     "start_time": "2024-02-18T02:23:39.489017Z"
    },
    "collapsed": false,
    "jupyter": {
     "outputs_hidden": false
    }
   },
   "outputs": [
    {
     "data": {
      "text/plain": [
       "(3387, 57605)"
      ]
     },
     "execution_count": 18,
     "metadata": {},
     "output_type": "execute_result"
    }
   ],
   "source": [
    "X_train_cv.shape"
   ]
  },
  {
   "cell_type": "markdown",
   "id": "2805460861d8df2d",
   "metadata": {
    "collapsed": false,
    "jupyter": {
     "outputs_hidden": false
    }
   },
   "source": [
    "## 3.2. TfidfVectorizer"
   ]
  },
  {
   "cell_type": "code",
   "execution_count": 19,
   "id": "ceab20c493df5fda",
   "metadata": {
    "ExecuteTime": {
     "end_time": "2024-02-18T02:24:21.222533Z",
     "start_time": "2024-02-18T02:24:21.051065Z"
    },
    "collapsed": false,
    "jupyter": {
     "outputs_hidden": false
    }
   },
   "outputs": [],
   "source": [
    "# Create a TfidfVectorizer object\n",
    "from sklearn.feature_extraction.text import TfidfVectorizer\n",
    "\n",
    "tfidf_obj = TfidfVectorizer(ngram_range=(1, 3))\n",
    "\n",
    "# Fit and transform the training data\n",
    "X_train_tfidf = tfidf_obj.fit_transform(X_train)\n",
    "\n",
    "# Transform the testing data\n",
    "X_test_tfidf = tfidf_obj.transform(X_test)"
   ]
  },
  {
   "cell_type": "code",
   "execution_count": 20,
   "id": "29f578338275d50",
   "metadata": {
    "ExecuteTime": {
     "end_time": "2024-02-18T02:24:23.548968Z",
     "start_time": "2024-02-18T02:24:23.540106Z"
    },
    "collapsed": false,
    "jupyter": {
     "outputs_hidden": false
    }
   },
   "outputs": [
    {
     "data": {
      "text/plain": [
       "(3387, 57605)"
      ]
     },
     "execution_count": 20,
     "metadata": {},
     "output_type": "execute_result"
    }
   ],
   "source": [
    "X_train_tfidf.shape"
   ]
  },
  {
   "cell_type": "markdown",
   "id": "67ead8213121cbaa",
   "metadata": {
    "collapsed": false,
    "jupyter": {
     "outputs_hidden": false
    }
   },
   "source": [
    "# 4. Model Training"
   ]
  },
  {
   "cell_type": "code",
   "execution_count": 24,
   "id": "dc0181357fcee409",
   "metadata": {
    "ExecuteTime": {
     "end_time": "2024-02-18T02:29:08.935824Z",
     "start_time": "2024-02-18T02:29:08.921453Z"
    },
    "collapsed": false,
    "jupyter": {
     "outputs_hidden": false
    }
   },
   "outputs": [],
   "source": [
    "from sklearn.metrics import accuracy_score, confusion_matrix, classification_report\n",
    "\n",
    "\n",
    "def get_report(model, X_train, y_train, X_test, y_test):\n",
    "    model.fit(X_train, y_train)\n",
    "    y_pred = model.predict(X_test)\n",
    "\n",
    "    return accuracy_score(y_test, y_pred), confusion_matrix(y_test, y_pred), classification_report(y_test, y_pred, zero_division=1)\n",
    "\n",
    "\n",
    "def get_top_bom_features(model, vectorizer_obj, n=10):\n",
    "    if not hasattr(model, 'coef_'):\n",
    "        cv_feature_w_freq = pd.DataFrame({\n",
    "            'feature': vectorizer_obj.get_feature_names_out(),\n",
    "            'coefficient': model.feature_log_prob_[0]})\n",
    "    else:\n",
    "        cv_feature_w_freq = pd.DataFrame({\n",
    "            'feature': vectorizer_obj.get_feature_names_out(),\n",
    "            'coefficient': model.coef_[0]})\n",
    "\n",
    "    cv_feature_w_freq.sort_values(by='coefficient', ascending=True, inplace=True)\n",
    "\n",
    "    return cv_feature_w_freq.head(10), cv_feature_w_freq.tail(10)"
   ]
  },
  {
   "cell_type": "markdown",
   "id": "40e9504d21108882",
   "metadata": {
    "collapsed": false,
    "jupyter": {
     "outputs_hidden": false
    }
   },
   "source": [
    "## 4.1. Logistic Regression with CountVectorizer"
   ]
  },
  {
   "cell_type": "code",
   "execution_count": 26,
   "id": "53ecba40b0a1b3fa",
   "metadata": {
    "ExecuteTime": {
     "end_time": "2024-02-18T02:29:39.460623Z",
     "start_time": "2024-02-18T02:29:37.937073Z"
    },
    "collapsed": false,
    "jupyter": {
     "outputs_hidden": false
    }
   },
   "outputs": [
    {
     "name": "stdout",
     "output_type": "stream",
     "text": [
      "Logistic Regression CountVectorizer Accuracy Score: 0.974025974025974\n",
      "Logistic Regression CountVectorizer Confusion Matrix: \n",
      "[[212  10  10]\n",
      " [  1 241   1]\n",
      " [  0   0 372]]\n",
      "Logistic Regression CountVectorizer Classification Report: \n",
      "              precision    recall  f1-score   support\n",
      "\n",
      "        high       1.00      0.91      0.95       232\n",
      "         low       0.96      0.99      0.98       243\n",
      "      medium       0.97      1.00      0.99       372\n",
      "\n",
      "    accuracy                           0.97       847\n",
      "   macro avg       0.98      0.97      0.97       847\n",
      "weighted avg       0.97      0.97      0.97       847\n"
     ]
    }
   ],
   "source": [
    "from sklearn.linear_model import LogisticRegression\n",
    "\n",
    "# Create a LogisticRegression object\n",
    "model_lr_cv = LogisticRegression(random_state=seed_value, max_iter=20000)\n",
    "\n",
    "# Get the accuracy score, confusion matrix, and classification report\n",
    "lr_cv_accuracy_score, lr_cv_confusion_matrix, lr_cv_classification_report = get_report(model_lr_cv, X_train_cv, y_train, X_test_cv, y_test)\n",
    "\n",
    "# Print the accuracy score\n",
    "print(f'Logistic Regression CountVectorizer Accuracy Score: {lr_cv_accuracy_score}')\n",
    "\n",
    "# Print the confusion matrix\n",
    "print(f'Logistic Regression CountVectorizer Confusion Matrix: \\n{lr_cv_confusion_matrix}')\n",
    "\n",
    "# Print the classification report\n",
    "print(f'Logistic Regression CountVectorizer Classification Report: \\n{lr_cv_classification_report}')\n"
   ]
  },
  {
   "cell_type": "markdown",
   "id": "5afc9cac1228a8fd",
   "metadata": {
    "collapsed": false,
    "jupyter": {
     "outputs_hidden": false
    }
   },
   "source": [
    "## 4.2. Logistic Regression with TfidfVectorizer"
   ]
  },
  {
   "cell_type": "code",
   "execution_count": 27,
   "id": "fd8271a9506c4ee",
   "metadata": {
    "ExecuteTime": {
     "end_time": "2024-02-18T02:31:01.259393Z",
     "start_time": "2024-02-18T02:30:59.873925Z"
    },
    "collapsed": false,
    "jupyter": {
     "outputs_hidden": false
    }
   },
   "outputs": [
    {
     "name": "stdout",
     "output_type": "stream",
     "text": [
      "Logistic Regression TfidfVectorizer Accuracy Score: 0.9598583234946871\n",
      "Logistic Regression TfidfVectorizer Confusion Matrix: \n",
      "[[202  12  18]\n",
      " [  1 239   3]\n",
      " [  0   0 372]]\n",
      "Logistic Regression TfidfVectorizer Classification Report: \n",
      "              precision    recall  f1-score   support\n",
      "\n",
      "        high       1.00      0.87      0.93       232\n",
      "         low       0.95      0.98      0.97       243\n",
      "      medium       0.95      1.00      0.97       372\n",
      "\n",
      "    accuracy                           0.96       847\n",
      "   macro avg       0.96      0.95      0.96       847\n",
      "weighted avg       0.96      0.96      0.96       847\n"
     ]
    }
   ],
   "source": [
    "# Create a LogisticRegression object\n",
    "model_lr_tfidf = LogisticRegression(random_state=seed_value, max_iter=20000)\n",
    "\n",
    "# Get the accuracy score, confusion matrix, and classification report\n",
    "lr_tfidf_accuracy_score, lr_tfidf_confusion_matrix, lr_tfidf_classification_report = get_report(model_lr_tfidf, X_train_tfidf, y_train, X_test_tfidf, y_test)\n",
    "\n",
    "# Print the accuracy score\n",
    "print(f'Logistic Regression TfidfVectorizer Accuracy Score: {lr_tfidf_accuracy_score}')\n",
    "\n",
    "# Print the confusion matrix\n",
    "print(f'Logistic Regression TfidfVectorizer Confusion Matrix: \\n{lr_tfidf_confusion_matrix}')\n",
    "\n",
    "# Print the classification report\n",
    "print(f'Logistic Regression TfidfVectorizer Classification Report: \\n{lr_tfidf_classification_report}')"
   ]
  },
  {
   "cell_type": "markdown",
   "id": "23e1e413b7daa7fb",
   "metadata": {
    "collapsed": false,
    "jupyter": {
     "outputs_hidden": false
    }
   },
   "source": [
    "## 4.3 Naive Bayes with CountVectorizer"
   ]
  },
  {
   "cell_type": "code",
   "execution_count": 28,
   "id": "d6fcbeba15568fa8",
   "metadata": {
    "ExecuteTime": {
     "end_time": "2024-02-18T02:32:07.460809Z",
     "start_time": "2024-02-18T02:32:07.423251Z"
    },
    "collapsed": false,
    "jupyter": {
     "outputs_hidden": false
    }
   },
   "outputs": [
    {
     "name": "stdout",
     "output_type": "stream",
     "text": [
      "Naive Bayes CountVectorizer Accuracy Score: 0.9185360094451004\n",
      "Naive Bayes CountVectorizer Confusion Matrix: \n",
      "[[187  16  29]\n",
      " [  4 226  13]\n",
      " [  3   4 365]]\n",
      "Naive Bayes CountVectorizer Classification Report: \n",
      "              precision    recall  f1-score   support\n",
      "\n",
      "        high       0.96      0.81      0.88       232\n",
      "         low       0.92      0.93      0.92       243\n",
      "      medium       0.90      0.98      0.94       372\n",
      "\n",
      "    accuracy                           0.92       847\n",
      "   macro avg       0.93      0.91      0.91       847\n",
      "weighted avg       0.92      0.92      0.92       847\n"
     ]
    }
   ],
   "source": [
    "from sklearn.naive_bayes import MultinomialNB\n",
    "\n",
    "# Create a MultinomialNB object\n",
    "model_nb_cv = MultinomialNB()\n",
    "\n",
    "# Get the accuracy score, confusion matrix, and classification report\n",
    "nb_cv_accuracy_score, nb_cv_confusion_matrix, nb_cv_classification_report = get_report(model_nb_cv, X_train_cv, y_train, X_test_cv, y_test)\n",
    "\n",
    "# Print the accuracy score\n",
    "print(f'Naive Bayes CountVectorizer Accuracy Score: {nb_cv_accuracy_score}')\n",
    "\n",
    "# Print the confusion matrix\n",
    "print(f'Naive Bayes CountVectorizer Confusion Matrix: \\n{nb_cv_confusion_matrix}')\n",
    "\n",
    "# Print the classification report\n",
    "print(f'Naive Bayes CountVectorizer Classification Report: \\n{nb_cv_classification_report}')\n",
    "\n"
   ]
  },
  {
   "cell_type": "markdown",
   "id": "dd154aee0a6255bc",
   "metadata": {
    "collapsed": false,
    "jupyter": {
     "outputs_hidden": false
    }
   },
   "source": [
    "## 4.4 Naive Bayes with TfidfVectorizer"
   ]
  },
  {
   "cell_type": "code",
   "execution_count": 29,
   "id": "2046f94a97736d5b",
   "metadata": {
    "ExecuteTime": {
     "end_time": "2024-02-18T02:32:51.953622Z",
     "start_time": "2024-02-18T02:32:51.920831Z"
    },
    "collapsed": false,
    "jupyter": {
     "outputs_hidden": false
    }
   },
   "outputs": [
    {
     "name": "stdout",
     "output_type": "stream",
     "text": [
      "Naive Bayes TfidfVectorizer Accuracy Score: 0.8689492325855962\n",
      "Naive Bayes TfidfVectorizer Confusion Matrix: \n",
      "[[149  13  70]\n",
      " [  0 216  27]\n",
      " [  1   0 371]]\n",
      "Naive Bayes TfidfVectorizer Classification Report: \n",
      "              precision    recall  f1-score   support\n",
      "\n",
      "        high       0.99      0.64      0.78       232\n",
      "         low       0.94      0.89      0.92       243\n",
      "      medium       0.79      1.00      0.88       372\n",
      "\n",
      "    accuracy                           0.87       847\n",
      "   macro avg       0.91      0.84      0.86       847\n",
      "weighted avg       0.89      0.87      0.86       847\n"
     ]
    }
   ],
   "source": [
    "# Create a MultinomialNB object\n",
    "model_nb_tfidf = MultinomialNB()\n",
    "\n",
    "# Get the accuracy score, confusion matrix, and classification report\n",
    "nb_tfidf_accuracy_score, nb_tfidf_confusion_matrix, nb_tfidf_classification_report = get_report(model_nb_tfidf, X_train_tfidf, y_train, X_test_tfidf, y_test)\n",
    "\n",
    "# Print the accuracy score\n",
    "print(f'Naive Bayes TfidfVectorizer Accuracy Score: {nb_tfidf_accuracy_score}')\n",
    "\n",
    "# Print the confusion matrix\n",
    "print(f'Naive Bayes TfidfVectorizer Confusion Matrix: \\n{nb_tfidf_confusion_matrix}')\n",
    "\n",
    "# Print the classification report\n",
    "print(f'Naive Bayes TfidfVectorizer Classification Report: \\n{nb_tfidf_classification_report}')\n"
   ]
  },
  {
   "cell_type": "markdown",
   "id": "e3b629014be06c1e",
   "metadata": {
    "collapsed": false,
    "jupyter": {
     "outputs_hidden": false
    }
   },
   "source": [
    "# 5. Model Evaluation\n",
    "\n",
    "We will choose Logistic Regression with CountVectorizer as the best model. \n",
    "\n",
    "A deep investigation of the model will be conducted to understand the top features and the worst features.\n",
    "\n",
    "An **accuracy** score of **0.97** means 97% of cases classified correctly by your model.\n",
    "\n",
    "An average **precision** is 0.98 means 98% of the positive cases are correctly classified.\n",
    "\n",
    "An average **recall** is 0.97 means out of all the actual positive instances in your dataset, the classifier correctly identifies 97% of them on average across all classes."
   ]
  },
  {
   "cell_type": "code",
   "execution_count": 30,
   "id": "506571283374e72f",
   "metadata": {
    "ExecuteTime": {
     "end_time": "2024-02-18T02:35:12.080038Z",
     "start_time": "2024-02-18T02:35:12.072868Z"
    },
    "collapsed": false,
    "jupyter": {
     "outputs_hidden": false
    }
   },
   "outputs": [],
   "source": [
    "def get_top_bom_features(model, vectorizer_obj, n=10):\n",
    "    if not hasattr(model, 'coef_'):\n",
    "        cv_feature_w_freq = pd.DataFrame({\n",
    "            'feature': vectorizer_obj.get_feature_names_out(),\n",
    "            'coefficient': model.feature_log_prob_[0]})\n",
    "    else:\n",
    "        cv_feature_w_freq = pd.DataFrame({\n",
    "            'feature': vectorizer_obj.get_feature_names_out(),\n",
    "            'coefficient': model.coef_[0]})\n",
    "\n",
    "    cv_feature_w_freq.sort_values(by='coefficient', ascending=True, inplace=True)\n",
    "\n",
    "    return cv_feature_w_freq.head(10), cv_feature_w_freq.tail(10)"
   ]
  },
  {
   "cell_type": "code",
   "execution_count": 32,
   "id": "25cd7be23c98142d",
   "metadata": {
    "ExecuteTime": {
     "end_time": "2024-02-18T02:35:39.154247Z",
     "start_time": "2024-02-18T02:35:39.142257Z"
    },
    "collapsed": false,
    "jupyter": {
     "outputs_hidden": false
    }
   },
   "outputs": [
    {
     "data": {
      "text/html": [
       "<div>\n",
       "<style scoped>\n",
       "    .dataframe tbody tr th:only-of-type {\n",
       "        vertical-align: middle;\n",
       "    }\n",
       "\n",
       "    .dataframe tbody tr th {\n",
       "        vertical-align: top;\n",
       "    }\n",
       "\n",
       "    .dataframe thead th {\n",
       "        text-align: right;\n",
       "    }\n",
       "</style>\n",
       "<table border=\"1\" class=\"dataframe\">\n",
       "  <thead>\n",
       "    <tr style=\"text-align: right;\">\n",
       "      <th></th>\n",
       "      <th>feature</th>\n",
       "      <th>coefficient</th>\n",
       "    </tr>\n",
       "  </thead>\n",
       "  <tbody>\n",
       "    <tr>\n",
       "      <th>14437</th>\n",
       "      <td>department violat</td>\n",
       "      <td>-1.160194</td>\n",
       "    </tr>\n",
       "    <tr>\n",
       "      <th>23643</th>\n",
       "      <td>incid</td>\n",
       "      <td>-1.097154</td>\n",
       "    </tr>\n",
       "    <tr>\n",
       "      <th>18361</th>\n",
       "      <td>falsif</td>\n",
       "      <td>-0.913208</td>\n",
       "    </tr>\n",
       "    <tr>\n",
       "      <th>54578</th>\n",
       "      <td>verbal</td>\n",
       "      <td>-0.752779</td>\n",
       "    </tr>\n",
       "    <tr>\n",
       "      <th>14386</th>\n",
       "      <td>department</td>\n",
       "      <td>-0.738023</td>\n",
       "    </tr>\n",
       "    <tr>\n",
       "      <th>54579</th>\n",
       "      <td>verbal abus</td>\n",
       "      <td>-0.700062</td>\n",
       "    </tr>\n",
       "    <tr>\n",
       "      <th>53407</th>\n",
       "      <td>unprofession conduct</td>\n",
       "      <td>-0.693119</td>\n",
       "    </tr>\n",
       "    <tr>\n",
       "      <th>25960</th>\n",
       "      <td>lack</td>\n",
       "      <td>-0.648124</td>\n",
       "    </tr>\n",
       "    <tr>\n",
       "      <th>25965</th>\n",
       "      <td>lack servic</td>\n",
       "      <td>-0.644478</td>\n",
       "    </tr>\n",
       "    <tr>\n",
       "      <th>43793</th>\n",
       "      <td>servic</td>\n",
       "      <td>-0.551012</td>\n",
       "    </tr>\n",
       "  </tbody>\n",
       "</table>\n",
       "</div>"
      ],
      "text/plain": [
       "                    feature  coefficient\n",
       "14437     department violat    -1.160194\n",
       "23643                 incid    -1.097154\n",
       "18361                falsif    -0.913208\n",
       "54578                verbal    -0.752779\n",
       "14386            department    -0.738023\n",
       "54579           verbal abus    -0.700062\n",
       "53407  unprofession conduct    -0.693119\n",
       "25960                  lack    -0.648124\n",
       "25965           lack servic    -0.644478\n",
       "43793                servic    -0.551012"
      ]
     },
     "execution_count": 32,
     "metadata": {},
     "output_type": "execute_result"
    }
   ],
   "source": [
    "# Get the top and bottom features\n",
    "lr_cv_top_features, lr_cv_bottom_features = get_top_bom_features(model_lr_cv, cv_obj)\n",
    "\n",
    "lr_cv_top_features"
   ]
  },
  {
   "cell_type": "code",
   "execution_count": 33,
   "id": "7f804da364869ed1",
   "metadata": {
    "ExecuteTime": {
     "end_time": "2024-02-18T02:35:59.096228Z",
     "start_time": "2024-02-18T02:35:59.069615Z"
    },
    "collapsed": false,
    "jupyter": {
     "outputs_hidden": false
    }
   },
   "outputs": [
    {
     "data": {
      "text/html": [
       "<div>\n",
       "<style scoped>\n",
       "    .dataframe tbody tr th:only-of-type {\n",
       "        vertical-align: middle;\n",
       "    }\n",
       "\n",
       "    .dataframe tbody tr th {\n",
       "        vertical-align: top;\n",
       "    }\n",
       "\n",
       "    .dataframe thead th {\n",
       "        text-align: right;\n",
       "    }\n",
       "</style>\n",
       "<table border=\"1\" class=\"dataframe\">\n",
       "  <thead>\n",
       "    <tr style=\"text-align: right;\">\n",
       "      <th></th>\n",
       "      <th>feature</th>\n",
       "      <th>coefficient</th>\n",
       "    </tr>\n",
       "  </thead>\n",
       "  <tbody>\n",
       "    <tr>\n",
       "      <th>16727</th>\n",
       "      <td>drug</td>\n",
       "      <td>0.504843</td>\n",
       "    </tr>\n",
       "    <tr>\n",
       "      <th>1492</th>\n",
       "      <td>alleg</td>\n",
       "      <td>0.768128</td>\n",
       "    </tr>\n",
       "    <tr>\n",
       "      <th>16073</th>\n",
       "      <td>domest</td>\n",
       "      <td>0.924407</td>\n",
       "    </tr>\n",
       "    <tr>\n",
       "      <th>13545</th>\n",
       "      <td>crimin</td>\n",
       "      <td>0.951499</td>\n",
       "    </tr>\n",
       "    <tr>\n",
       "      <th>44360</th>\n",
       "      <td>sexual</td>\n",
       "      <td>1.031545</td>\n",
       "    </tr>\n",
       "    <tr>\n",
       "      <th>13552</th>\n",
       "      <td>crimin alleg</td>\n",
       "      <td>1.076995</td>\n",
       "    </tr>\n",
       "    <tr>\n",
       "      <th>36194</th>\n",
       "      <td>physic abus</td>\n",
       "      <td>1.107055</td>\n",
       "    </tr>\n",
       "    <tr>\n",
       "      <th>36193</th>\n",
       "      <td>physic</td>\n",
       "      <td>1.297644</td>\n",
       "    </tr>\n",
       "    <tr>\n",
       "      <th>21707</th>\n",
       "      <td>harass</td>\n",
       "      <td>1.424085</td>\n",
       "    </tr>\n",
       "    <tr>\n",
       "      <th>21273</th>\n",
       "      <td>gun</td>\n",
       "      <td>1.551440</td>\n",
       "    </tr>\n",
       "  </tbody>\n",
       "</table>\n",
       "</div>"
      ],
      "text/plain": [
       "            feature  coefficient\n",
       "16727          drug     0.504843\n",
       "1492          alleg     0.768128\n",
       "16073        domest     0.924407\n",
       "13545        crimin     0.951499\n",
       "44360        sexual     1.031545\n",
       "13552  crimin alleg     1.076995\n",
       "36194   physic abus     1.107055\n",
       "36193        physic     1.297644\n",
       "21707        harass     1.424085\n",
       "21273           gun     1.551440"
      ]
     },
     "execution_count": 33,
     "metadata": {},
     "output_type": "execute_result"
    }
   ],
   "source": [
    "lr_cv_bottom_features"
   ]
  },
  {
   "cell_type": "markdown",
   "id": "3555e17ba4407308",
   "metadata": {
    "collapsed": false,
    "jupyter": {
     "outputs_hidden": false
    }
   },
   "source": [
    "# 6. Serialize the Model"
   ]
  },
  {
   "cell_type": "code",
   "execution_count": 34,
   "id": "858c5b70030dab83",
   "metadata": {
    "ExecuteTime": {
     "end_time": "2024-02-18T02:39:24.163877Z",
     "start_time": "2024-02-18T02:39:24.145666Z"
    },
    "collapsed": false,
    "jupyter": {
     "outputs_hidden": false
    }
   },
   "outputs": [
    {
     "data": {
      "text/plain": [
       "['model_lr_cv.pkl']"
      ]
     },
     "execution_count": 34,
     "metadata": {},
     "output_type": "execute_result"
    }
   ],
   "source": [
    "# Serialize the model\n",
    "\n",
    "import joblib\n",
    "\n",
    "joblib.dump(model_lr_cv, 'model_lr_cv.pkl')\n"
   ]
  },
  {
   "cell_type": "code",
   "execution_count": 35,
   "id": "e5daa68b37deacee",
   "metadata": {
    "ExecuteTime": {
     "end_time": "2024-02-18T03:01:49.648563Z",
     "start_time": "2024-02-18T03:01:49.485745Z"
    },
    "collapsed": false,
    "jupyter": {
     "outputs_hidden": false
    }
   },
   "outputs": [
    {
     "data": {
      "text/plain": [
       "['vectorizer.pkl']"
      ]
     },
     "execution_count": 35,
     "metadata": {},
     "output_type": "execute_result"
    }
   ],
   "source": [
    "# Serialize the vectorizer cv_obj\n",
    "joblib.dump(cv_obj, 'vectorizer.pkl')"
   ]
  },
  {
   "cell_type": "code",
   "execution_count": null,
   "id": "83ccaaded3a7fa8",
   "metadata": {
    "collapsed": false,
    "jupyter": {
     "outputs_hidden": false
    }
   },
   "outputs": [],
   "source": []
  }
 ],
 "metadata": {
  "kernelspec": {
   "display_name": "Python 3 (ipykernel)",
   "language": "python",
   "name": "python3"
  },
  "language_info": {
   "codemirror_mode": {
    "name": "ipython",
    "version": 3
   },
   "file_extension": ".py",
   "mimetype": "text/x-python",
   "name": "python",
   "nbconvert_exporter": "python",
   "pygments_lexer": "ipython3",
   "version": "3.9.6"
  }
 },
 "nbformat": 4,
 "nbformat_minor": 5
}
